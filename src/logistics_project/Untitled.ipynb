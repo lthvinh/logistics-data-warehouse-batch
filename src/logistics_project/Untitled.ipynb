{
 "cells": [
  {
   "cell_type": "code",
   "execution_count": 1,
   "id": "c952d6d6-3404-495c-b63e-5a430e4462dc",
   "metadata": {},
   "outputs": [
    {
     "ename": "SyntaxError",
     "evalue": "invalid syntax (2682591987.py, line 50)",
     "output_type": "error",
     "traceback": [
      "\u001b[0;36m  Cell \u001b[0;32mIn[1], line 50\u001b[0;36m\u001b[0m\n\u001b[0;31m    )\u001b[0m\n\u001b[0m    ^\u001b[0m\n\u001b[0;31mSyntaxError\u001b[0m\u001b[0;31m:\u001b[0m invalid syntax\n"
     ]
    }
   ],
   "source": [
    "from airflow import DAG\n",
    "from airflow.operators.empty import EmptyOperator\n",
    "from airflow.providers.apache.spark.operators.spark_submit import SparkSubmitOperator\n",
    "from operators.custom_operators import CustomSparkSubmitOperator\n",
    "import pendulum\n",
    "import yaml\n",
    "from pathlib import Path\n",
    "\n",
    "default_args = {\n",
    "    'owner': 'vinh'\n",
    "    , 'email': 'ltvinh1101@gmail.com'\n",
    "    , 'email_on_failure': True\n",
    "    , 'email_on_retry': True\n",
    "    , 'retries': 2\n",
    "    , 'retry_delay': pendulum.duration(seconds = 1)\n",
    "}\n",
    "   \n",
    "with DAG(\n",
    "    dag_id = 'logistics_dag_v2'\n",
    "    , description = 'This is a dag'\n",
    "    , start_date = pendulum.now(tz = 'Asia/Ho_Chi_Minh')\n",
    "    , default_args = default_args\n",
    "    , catchup = False\n",
    "    , schedule = '@daily'\n",
    "    , tags = ['logistics', 'mysql']\n",
    ") as dag:\n",
    "    #START\n",
    "    start = EmptyOperator(task_id = 'start')\n",
    "\n",
    "    # config_path = Path.cwd() / 'config/config.yaml'\n",
    "    # with open(config_path) as file:\n",
    "    #     config = yaml.safe_load(file)\n",
    "    #     packages = config['spark']['packages']\n",
    "        \n",
    "    process_enirched_apps = [\n",
    "        'process_enriched_users'\n",
    "        , 'process_enriched_drivers'\n",
    "        , 'process_enriched_orders'\n",
    "        , 'process_enriched_paymentss'\n",
    "        , 'process_enriched_shipments'\n",
    "    ]\n",
    "    \n",
    "    processe_enriched_operators = []\n",
    "    \n",
    "    for app_name in process_enirched_apps:\n",
    "        temp = SparkSubmitOperator(\n",
    "            task_id = app_name\n",
    "            , conn_id = 'spark-conn'\n",
    "            , application = app_name\n",
    "  \n",
    "        )\n",
    "        processe_enriched_operators.append(temp)\n",
    "        \n",
    "    #END\n",
    "    end = EmptyOperator(task_id = 'end')\n",
    "\n",
    "    start >> processe_enriched_operators >> end\n",
    "    "
   ]
  },
  {
   "cell_type": "code",
   "execution_count": null,
   "id": "d10e1d16-954f-4c27-bb0e-707a5866801a",
   "metadata": {},
   "outputs": [],
   "source": [
    "from airflow.providers.apache.spark.operators.spark_submit import SparkSubmitOperator\n",
    "from airflow.models import DAG\n",
    "from datetime import datetime\n",
    "import yaml\n",
    "\n",
    "class MyCustomSparkOperator(SparkSubmitOperator):\n",
    "    def __init__(self, config_path, *args, **kwargs):\n",
    "        # Only store the path during initialization; don't read the file here.\n",
    "        self.config_path = config_path\n",
    "        super().__init__(*args, **kwargs)\n",
    "\n",
    "    def execute(self, context):\n",
    "        # Now load the configuration at execution time.\n",
    "        with open(self.config_path, \"r\") as f:\n",
    "            dynamic_config = yaml.safe_load(f)\n",
    "        \n",
    "        # Update parameters dynamically, if needed.\n",
    "        if \"conf\" in dynamic_config:\n",
    "            self.conf = dynamic_config[\"conf\"]\n",
    "        if \"application\" in dynamic_config:\n",
    "            self.application = dynamic_config[\"application\"]\n",
    "        # Proceed with the normal execution flow.\n",
    "        return super().execute(context)\n",
    "\n",
    "# Define your DAG.\n",
    "dag = DAG(\n",
    "    \"my_custom_spark_dag\",\n",
    "    start_date=datetime(2024, 2, 6),\n",
    "    schedule_interval=\"@once\",\n",
    "    catchup=False,\n",
    ")\n",
    "\n",
    "# Use the custom operator.\n",
    "spark_task = MyCustomSparkOperator(\n",
    "    task_id=\"submit_spark_job\",\n",
    "    config_path=\"/path/to/config.yaml\",\n",
    "    dag=dag,\n",
    ")\n"
   ]
  },
  {
   "cell_type": "code",
   "execution_count": null,
   "id": "0990e634-77ed-4f1a-8d4b-0480436af130",
   "metadata": {},
   "outputs": [],
   "source": []
  },
  {
   "cell_type": "code",
   "execution_count": 2,
   "id": "f4236492-0a56-4312-a411-fea4312de070",
   "metadata": {},
   "outputs": [],
   "source": [
    "from operators.custom_operators import CustomSparkSubmitOperator"
   ]
  },
  {
   "cell_type": "code",
   "execution_count": 1,
   "id": "a199fa4b-5f1e-4d2b-961b-d2ee75113f3f",
   "metadata": {},
   "outputs": [],
   "source": [
    "import requests"
   ]
  },
  {
   "cell_type": "code",
   "execution_count": 2,
   "id": "c7f3ef6f-5bb5-432f-8f7e-e77b9d5b1ff0",
   "metadata": {},
   "outputs": [],
   "source": [
    "url = 'http://livy:8998/sessions'\n",
    "response = requests.get(\n",
    "    url = url\n",
    "    , params = {\n",
    "        'from': 0\n",
    "        , 'size': 1\n",
    "    }\n",
    ")\n"
   ]
  },
  {
   "cell_type": "code",
   "execution_count": 8,
   "id": "8320733f-4b2a-4f38-879e-34d859833526",
   "metadata": {},
   "outputs": [],
   "source": [
    "import requests\n",
    "import json"
   ]
  },
  {
   "cell_type": "code",
   "execution_count": 9,
   "id": "1ed3f027-1085-41ba-bd68-a66b84809fcd",
   "metadata": {},
   "outputs": [
    {
     "data": {
      "text/plain": [
       "<Response [201]>"
      ]
     },
     "execution_count": 9,
     "metadata": {},
     "output_type": "execute_result"
    }
   ],
   "source": [
    "url = 'http://livy:8998/sessions'\n",
    "headers = {'Content-Type': 'application/json'}\n",
    "data = {\n",
    "    'kind':'pyspark'\n",
    "    , 'name': 'test1'\n",
    "    , 'driverMemory': '512m'\n",
    "    , 'driverCores': 1\n",
    "    , 'executorMemory': '512m'\n",
    "    , 'executorCores': 1\n",
    "    , 'numExecutors': 1\n",
    "    , 'ttl': '10m'\n",
    "    , 'heartbeatTimeoutInSecond': 10\n",
    "}\n",
    "response = requests.post(url, data=json.dumps(data), headers=headers)\n",
    "response"
   ]
  },
  {
   "cell_type": "code",
   "execution_count": 77,
   "id": "35aec952-e87f-4861-9129-eceac4da516b",
   "metadata": {},
   "outputs": [],
   "source": [
    "url = 'http://livy:8998/sessions'\n",
    "headers = {'Content-Type': 'application/json'}\n",
    "data = {\n",
    "    'kind': 'pyspark'\n",
    "    , 'name': 'logistics'\n",
    "    , 'driverMemory': '512m'\n",
    "    , 'driverCores': 1\n",
    "    , 'executorMemory': '512m'\n",
    "    , 'executorCores': 1\n",
    "    , 'numExecutors': 1\n",
    "}\n",
    "\n",
    "response = requests.post(url, json.dumps(data), headers=headers)"
   ]
  },
  {
   "cell_type": "code",
   "execution_count": 78,
   "id": "8c6ce4ff-e80c-46f7-8852-2e0449378653",
   "metadata": {},
   "outputs": [
    {
     "data": {
      "text/plain": [
       "<Response [201]>"
      ]
     },
     "execution_count": 78,
     "metadata": {},
     "output_type": "execute_result"
    }
   ],
   "source": [
    "response"
   ]
  },
  {
   "cell_type": "code",
   "execution_count": 18,
   "id": "6021e854-8fc4-4635-abf8-e0ba75210fb6",
   "metadata": {},
   "outputs": [
    {
     "data": {
      "text/plain": [
       "'{\"kind\": \"pyspark\", \"name\": \"test\", \"driverMemory\": \"512m\", \"driverCores\": 1, \"executorMemory\": \"512m\", \"executorCores\": 1, \"numExecutors\": 1}'"
      ]
     },
     "execution_count": 18,
     "metadata": {},
     "output_type": "execute_result"
    }
   ],
   "source": [
    "json.dumps(params)"
   ]
  },
  {
   "cell_type": "code",
   "execution_count": 30,
   "id": "93b913b7-9213-456e-94d9-7f5031e966cd",
   "metadata": {},
   "outputs": [],
   "source": [
    "import textwrap"
   ]
  },
  {
   "cell_type": "code",
   "execution_count": null,
   "id": "fdcff1f7-191c-4bc8-aae7-f346e1cf0f4d",
   "metadata": {},
   "outputs": [],
   "source": [
    "POST /sessions/{sessionId}/statements"
   ]
  },
  {
   "cell_type": "code",
   "execution_count": 14,
   "id": "bb7f4411-b850-484a-8936-ffcc8ea30db7",
   "metadata": {},
   "outputs": [],
   "source": [
    "import textwrap"
   ]
  },
  {
   "cell_type": "code",
   "execution_count": 83,
   "id": "5a171740-6698-489d-9576-0ddbd688f871",
   "metadata": {},
   "outputs": [],
   "source": [
    "url = 'http://livy:8998/sessions/0/statements'\n",
    "data = {\n",
    "    'code': textwrap.dedent('''\n",
    "        for i in range(10):\n",
    "            print(i)\n",
    "    ''')\n",
    "    , 'kind': 'pyspark'\n",
    "}\n",
    "\n",
    "response = requests.post(url, data=json.dumps(data))"
   ]
  },
  {
   "cell_type": "code",
   "execution_count": 84,
   "id": "89d7a33c-439e-44f3-bd7d-bd0197af64da",
   "metadata": {},
   "outputs": [
    {
     "data": {
      "text/plain": [
       "{'id': 0,\n",
       " 'code': '\\nfor i in range(10):\\n    print(i)\\n',\n",
       " 'state': 'waiting',\n",
       " 'output': None,\n",
       " 'progress': 0.0,\n",
       " 'started': 0,\n",
       " 'completed': 0}"
      ]
     },
     "execution_count": 84,
     "metadata": {},
     "output_type": "execute_result"
    }
   ],
   "source": [
    "response.json()"
   ]
  },
  {
   "cell_type": "code",
   "execution_count": 24,
   "id": "b7f98b18-1221-4893-b93c-f1010e040c41",
   "metadata": {},
   "outputs": [],
   "source": [
    "url = 'http://livy:8998/sessions/1'\n",
    "response = requests.delete(url)"
   ]
  },
  {
   "cell_type": "code",
   "execution_count": null,
   "id": "bc0a31f0-6d58-481a-b1c7-cef622efca0a",
   "metadata": {},
   "outputs": [],
   "source": [
    "url = 'http://http:8998/sessions/2'\n",
    "\n",
    "requests.get(url)"
   ]
  },
  {
   "cell_type": "code",
   "execution_count": null,
   "id": "5558ba96-7c77-4058-8017-1bffe2bae976",
   "metadata": {},
   "outputs": [],
   "source": [
    "2025-02-13 09:34:15 25/02/13 02:34:15 WARN LivySparkUtils$: Spark version (3,5) is greater then the maximum version (3,0) supported by Livy, will choose Scala version 2.12 instead, please specify manually if it is the expected Scala version you want"
   ]
  },
  {
   "cell_type": "code",
   "execution_count": 87,
   "id": "cc2b63e6-686c-43eb-8168-bcbbdc96e6bc",
   "metadata": {},
   "outputs": [],
   "source": [
    "url = 'http://livy:8998/batches'\n",
    "headers = {'Content-Type': 'application/json'}\n",
    "data = {\n",
    "    'file': '/src/logistics_project_v2/spark_dataframe_app.py'\n",
    "}\n",
    "response = requests.post(url, json.dumps(data), headers=headers)"
   ]
  },
  {
   "cell_type": "code",
   "execution_count": 88,
   "id": "30a45192-9f13-42ea-94ec-148ce5ed44a8",
   "metadata": {},
   "outputs": [
    {
     "data": {
      "text/plain": [
       "{'id': 0,\n",
       " 'name': None,\n",
       " 'owner': None,\n",
       " 'proxyUser': None,\n",
       " 'state': 'running',\n",
       " 'appId': None,\n",
       " 'appInfo': {'driverLogUrl': None, 'sparkUiUrl': None},\n",
       " 'log': ['stdout: ', '\\nstderr: ']}"
      ]
     },
     "execution_count": 88,
     "metadata": {},
     "output_type": "execute_result"
    }
   ],
   "source": [
    "response.json()"
   ]
  },
  {
   "cell_type": "code",
   "execution_count": 72,
   "id": "f4269b29-a4a3-42b7-be74-e19c3a0dbb46",
   "metadata": {},
   "outputs": [
    {
     "data": {
      "text/plain": [
       "<Response [200]>"
      ]
     },
     "execution_count": 72,
     "metadata": {},
     "output_type": "execute_result"
    }
   ],
   "source": [
    "url = 'http://livy:8998/batches/1'\n",
    "\n",
    "requests.delete(url)"
   ]
  },
  {
   "cell_type": "code",
   "execution_count": 35,
   "id": "e69ea93c-6f07-4ac5-8b12-ba96cb8456e9",
   "metadata": {},
   "outputs": [
    {
     "data": {
      "text/plain": [
       "{'from': 0,\n",
       " 'total': 1,\n",
       " 'sessions': [{'id': 0,\n",
       "   'name': None,\n",
       "   'owner': None,\n",
       "   'proxyUser': None,\n",
       "   'state': 'starting',\n",
       "   'appId': None,\n",
       "   'appInfo': {'driverLogUrl': None, 'sparkUiUrl': None},\n",
       "   'log': []}]}"
      ]
     },
     "execution_count": 35,
     "metadata": {},
     "output_type": "execute_result"
    }
   ],
   "source": [
    "url = 'http://livy:8998/batches'\n",
    "\n",
    "requests.get(url).json()"
   ]
  },
  {
   "cell_type": "code",
   "execution_count": 49,
   "id": "d8b18772-1a35-44e0-bec4-8bb9445c16f4",
   "metadata": {},
   "outputs": [
    {
     "data": {
      "text/plain": [
       "<Response [200]>"
      ]
     },
     "execution_count": 49,
     "metadata": {},
     "output_type": "execute_result"
    }
   ],
   "source": [
    "url = 'http://livy:8998/sessions/0'\n",
    "requests.delete(url)"
   ]
  },
  {
   "cell_type": "code",
   "execution_count": 54,
   "id": "0fec0ee1-2c5a-49b4-9be1-90ff3340df6b",
   "metadata": {},
   "outputs": [
    {
     "data": {
      "text/plain": [
       "<Response [200]>"
      ]
     },
     "execution_count": 54,
     "metadata": {},
     "output_type": "execute_result"
    }
   ],
   "source": [
    "url = 'http://livy:8998/batches/0'\n",
    "\n",
    "requests.delete(url)"
   ]
  },
  {
   "cell_type": "code",
   "execution_count": null,
   "id": "4e453c46-d69a-42e9-9f48-fb8493185486",
   "metadata": {},
   "outputs": [],
   "source": []
  }
 ],
 "metadata": {
  "kernelspec": {
   "display_name": "Python 3 (ipykernel)",
   "language": "python",
   "name": "python3"
  },
  "language_info": {
   "codemirror_mode": {
    "name": "ipython",
    "version": 3
   },
   "file_extension": ".py",
   "mimetype": "text/x-python",
   "name": "python",
   "nbconvert_exporter": "python",
   "pygments_lexer": "ipython3",
   "version": "3.11.10"
  }
 },
 "nbformat": 4,
 "nbformat_minor": 5
}
